{
 "cells": [
  {
   "cell_type": "markdown",
   "metadata": {},
   "source": [
    "# 文本处理\n",
    "\n",
    "### 官方处理流程\n",
    "```sh\n",
    "python2 ./data/tools.py -m filter -s ./data/News_info_train.txt -t ./clean_data/News_info_train_filter.txt\n",
    "python2 ./data/tools.py -m filter -s ./data/News_info_unlabel.txt -t ./clean_data/News_info_unlabel_filter.txt\n",
    "python2 ./data/tools.py -m filter -s ./data/News_info_validate.txt -t ./clean_data/News_info_validate_filter.txt\n",
    "python2 ./data/tools.py -m filter -s ./data/News_info_label_train_example100.txt -t ./clean_data/News_info_label_train_example100_filter.txt\n",
    "```"
   ]
  },
  {
   "cell_type": "markdown",
   "metadata": {},
   "source": [
    "# 数据预处理\n",
    "\n",
    "- 解析HTML\n",
    "- 过滤无效字符\n",
    "- 生成文本\n",
    "- 拼接数据\n"
   ]
  },
  {
   "cell_type": "code",
   "execution_count": null,
   "metadata": {},
   "outputs": [],
   "source": [
    "import re\n",
    "import gensim\n",
    "import jieba\n",
    "import pandas as pd\n",
    "from html.parser import HTMLParser\n",
    "\n",
    "news_info_train = pd.read_csv('./clean_data/News_info_train_filter.txt', names=['id', 'text', 'Pics'], sep='\\t', index_col='id')\n",
    "news_pic_label_train = pd.read_csv('./data/News_pic_label_train.txt', names=['id', 'label', 'target_pic', 'target_text'], sep='\\t', index_col='id')\n",
    "\n",
    "news_info_train['Pics'].fillna('',inplace=True)\n",
    "news_pic_label_train['target_pic'].fillna('',inplace=True)\n",
    "news_pic_label_train['target_text'].fillna('',inplace=True)\n",
    "news_info_train['text']=news_info_train['text'].apply(str.strip)\n",
    "news_pic_label_train['target_text']=news_pic_label_train['target_text'].apply(str.strip)\n",
    "\n",
    "news_info_unlabel = pd.read_csv('./clean_data/News_info_unlabel_filter.txt', names=['id', 'text', 'Pics'], sep='\\t', index_col='id')\n",
    "news_info_unlabel['Pics'] = news_info_unlabel['Pics'].fillna('')\n",
    "\n",
    "news_info_train_example100 = pd.read_csv('./clean_data/News_info_train_example100_filter.txt', names=['id', 'text', 'Pics'], sep='\\t', index_col='id')\n",
    "news_pic_label_train_example100 = pd.read_csv('./data/News_pic_label_train_example100.txt', names=['id', 'label', 'target_pic', 'target_text'], sep='\\t', index_col='id')\n",
    "\n",
    "news_info_train_example100['Pics'].fillna('',inplace=True)\n",
    "news_pic_label_train_example100['target_pic'].fillna('',inplace=True)\n",
    "news_pic_label_train_example100['target_text'].fillna('',inplace=True)\n",
    "news_info_train_example100['text']=news_info_train_example100['text'].apply(str.strip)\n",
    "news_pic_label_train_example100['target_text']=news_pic_label_train_example100['target_text'].apply(str.strip)\n",
    "\n",
    "news_info_train['text']=news_info_train['text'].apply(lambda x:' '.join(jieba.cut(x)))\n",
    "news_pic_label_train['target_text']=news_pic_label_train['target_text'].apply(lambda x:' '.join(jieba.cut(x)))\n",
    "\n",
    "news_info_unlabel['text']=news_info_unlabel['text'].apply(lambda x:' '.join(jieba.cut(x)))\n",
    "\n",
    "news_info_train_example100['text']=news_info_train_example100['text'].apply(lambda x:' '.join(jieba.cut(x)))\n",
    "news_pic_label_train_example100['target_text']=news_pic_label_train_example100['target_text'].apply(lambda x:' '.join(jieba.cut(x)))\n",
    "\n",
    "news_info_train = news_info_train.join(news_pic_label_train)\n",
    "news_info_train_example100 = news_info_train_example100.join(news_pic_label_train_example100)\n",
    "\n",
    "news_info_validate = pd.read_csv('./clean_data/News_info_validate_filter.txt', names=['id', 'text', 'Pics'], sep='\\t', index_col='id')\n",
    "news_info_validate['Pics'].fillna('',inplace=True)\n",
    "news_info_validate['text']=news_info_validate['text'].apply(str.strip)\n",
    "news_info_validate['text']=news_info_validate['text'].apply(lambda x:' '.join(jieba.cut(x)))\n",
    "\n",
    "news_info_train=news_info_train.reset_index()\n",
    "news_info_unlabel=news_info_unlabel.reset_index()\n",
    "news_info_train_example100=news_info_train_example100.reset_index()\n",
    "\n",
    "news_info_train.drop('id',axis=1,inplace=True)\n",
    "news_info_unlabel.drop('id',axis=1,inplace=True)\n",
    "news_info_train_example100.drop('id',axis=1,inplace=True)"
   ]
  },
  {
   "cell_type": "code",
   "execution_count": null,
   "metadata": {},
   "outputs": [],
   "source": [
    "news_info_train.to_hdf('./clean_data/data.hdf5', 'news_info_train')\n",
    "news_info_unlabel.to_hdf('./clean_data/data.hdf5', 'news_info_unlabel')\n",
    "news_info_train_example100.to_hdf('./clean_data/data.hdf5', 'news_info_train_example100')\n",
    "news_info_validate.to_hdf('./clean_data/data.hdf5', 'news_info_validate')\n",
    "\n",
    "\n"
   ]
  },
  {
   "cell_type": "markdown",
   "metadata": {},
   "source": [
    "### 生成语料库\n",
    "\n",
    "从label和unlabel的数据中抽取所有文本"
   ]
  },
  {
   "cell_type": "code",
   "execution_count": 59,
   "metadata": {},
   "outputs": [],
   "source": [
    "pat=re.compile(r'( )+')\n",
    "texts=pd.concat([news_info_train['text'],news_info_unlabel['text']])\n",
    "from gensim.models.word2vec import Word2Vec\n",
    "from sklearn.metrics import mean_squared_error\n",
    "sentences = [ pat.sub(' ', r).split(' ') for _, r in texts.iteritems()]\n",
    "model = Word2Vec(sentences, size=100, window=5, min_count=5, workers=31)\n",
    "model.save('./model/word2vec.m')"
   ]
  },
  {
   "cell_type": "code",
   "execution_count": 64,
   "metadata": {},
   "outputs": [
    {
     "name": "stdout",
     "output_type": "stream",
     "text": [
      "语料库中没有的词:  0.016734317277791382\n"
     ]
    }
   ],
   "source": [
    "total, bad = 0,0\n",
    "\n",
    "for i,r in news_info_validate['text'].iteritems():\n",
    "    words = r.strip().split(' ')\n",
    "    for w in words:\n",
    "        total+=1\n",
    "        try:\n",
    "            w = w.strip()\n",
    "            if len(w) > 0:\n",
    "                model.wv[w]\n",
    "        except Exception as e:\n",
    "            bad+=1\n",
    "print('语料库中没有的词: ',(0.0+bad)/total)"
   ]
  },
  {
   "cell_type": "markdown",
   "metadata": {},
   "source": [
    "### 语句词向量测试"
   ]
  },
  {
   "cell_type": "code",
   "execution_count": null,
   "metadata": {},
   "outputs": [],
   "source": [
    "roll_text = news_info_train['text'].sample(n=1).values[0]\n",
    "for r in roll_text.strip().split(' '):\n",
    "    if len(r) > 0:\n",
    "        print(model.wv[r])"
   ]
  },
  {
   "cell_type": "code",
   "execution_count": 144,
   "metadata": {},
   "outputs": [
    {
     "name": "stdout",
     "output_type": "stream",
     "text": [
      "2.16633\n"
     ]
    }
   ],
   "source": [
    "print(mean_squared_error(model.wv['菜鸡'],model.wv['盒子']))"
   ]
  },
  {
   "cell_type": "code",
   "execution_count": 153,
   "metadata": {},
   "outputs": [],
   "source": [
    "news_info_train_sample = news_info_train.sample(frac=1)\n",
    "with open('./clean_data/trainset.txt','w') as f:\n",
    "    for i,r in news_info_train_sample[:int(0.95*len(news_info_train_sample))].iterrows():\n",
    "        f.write('__label__%d '%r['label'])\n",
    "        f.write(r['text'])\n",
    "        f.write('\\n')\n",
    "with open('./clean_data/trainset_valid.txt','w') as f:\n",
    "    for i,r in news_info_train_sample[int(0.95*len(news_info_train_sample)):].iterrows():\n",
    "        f.write('__label__%d '%r['label'])\n",
    "        f.write(r['text'])\n",
    "        f.write('\\n')\n",
    "with open('./clean_data/submit_valid.txt','w') as f:\n",
    "    for i,r in news_info_validate.iterrows():\n",
    "        f.write(r['text'])\n",
    "        f.write('\\n')\n",
    "        \n",
    "with open('./clean_data/train_100exaple.txt','w') as f:\n",
    "    for i,r in news_info_train_example100.iterrows():\n",
    "        f.write(r['text'])\n",
    "        f.write('\\n')\n",
    "with open('./clean_data/train_100exaple_label.txt','w') as f:\n",
    "    for i,r in news_pic_label_train_example100.iterrows():\n",
    "        f.write('%d'%r['label'])\n",
    "        f.write('\\n')"
   ]
  },
  {
   "cell_type": "code",
   "execution_count": null,
   "metadata": {},
   "outputs": [],
   "source": []
  }
 ],
 "metadata": {
  "kernelspec": {
   "display_name": "Python 3",
   "language": "python",
   "name": "python3"
  },
  "language_info": {
   "codemirror_mode": {
    "name": "ipython",
    "version": 3
   },
   "file_extension": ".py",
   "mimetype": "text/x-python",
   "name": "python",
   "nbconvert_exporter": "python",
   "pygments_lexer": "ipython3",
   "version": "3.6.3"
  }
 },
 "nbformat": 4,
 "nbformat_minor": 2
}
